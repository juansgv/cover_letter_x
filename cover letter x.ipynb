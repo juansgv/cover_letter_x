{
 "cells": [
  {
   "cell_type": "code",
   "execution_count": 1,
   "id": "671283e5-d251-4bae-bff8-f33de3068b17",
   "metadata": {},
   "outputs": [
    {
     "name": "stdout",
     "output_type": "stream",
     "text": [
      "Requirement already satisfied: markdown in /home/sebae/dev/lib/python3.11/site-packages (3.4.4)\n",
      "Requirement already satisfied: weasyprint in /home/sebae/dev/lib/python3.11/site-packages (59.0)\n",
      "Requirement already satisfied: pydyf>=0.6.0 in /home/sebae/dev/lib/python3.11/site-packages (from weasyprint) (0.7.0)\n",
      "Requirement already satisfied: cffi>=0.6 in /home/sebae/dev/lib/python3.11/site-packages (from weasyprint) (1.15.1)\n",
      "Requirement already satisfied: html5lib>=1.1 in /home/sebae/dev/lib/python3.11/site-packages (from weasyprint) (1.1)\n",
      "Requirement already satisfied: tinycss2>=1.0.0 in /home/sebae/dev/lib/python3.11/site-packages (from weasyprint) (1.2.1)\n",
      "Requirement already satisfied: cssselect2>=0.1 in /home/sebae/dev/lib/python3.11/site-packages (from weasyprint) (0.7.0)\n",
      "Requirement already satisfied: Pyphen>=0.9.1 in /home/sebae/dev/lib/python3.11/site-packages (from weasyprint) (0.14.0)\n",
      "Requirement already satisfied: Pillow>=9.1.0 in /home/sebae/dev/lib/python3.11/site-packages (from weasyprint) (10.0.1)\n",
      "Requirement already satisfied: fonttools[woff]>=4.0.0 in /home/sebae/dev/lib/python3.11/site-packages (from weasyprint) (4.42.1)\n",
      "Requirement already satisfied: pycparser in /home/sebae/dev/lib/python3.11/site-packages (from cffi>=0.6->weasyprint) (2.21)\n",
      "Requirement already satisfied: webencodings in /home/sebae/dev/lib/python3.11/site-packages (from cssselect2>=0.1->weasyprint) (0.5.1)\n",
      "Requirement already satisfied: zopfli>=0.1.4 in /home/sebae/dev/lib/python3.11/site-packages (from fonttools[woff]>=4.0.0->weasyprint) (0.2.3)\n",
      "Requirement already satisfied: brotli>=1.0.1 in /home/sebae/dev/lib/python3.11/site-packages (from fonttools[woff]>=4.0.0->weasyprint) (1.1.0)\n",
      "Requirement already satisfied: six>=1.9 in /home/sebae/dev/lib/python3.11/site-packages (from html5lib>=1.1->weasyprint) (1.16.0)\n",
      "Note: you may need to restart the kernel to use updated packages.\n"
     ]
    }
   ],
   "source": [
    "pip install markdown weasyprint\n"
   ]
  },
  {
   "cell_type": "code",
   "execution_count": 5,
   "id": "09719f5f-e6a3-4ef4-914d-ab1d006234a7",
   "metadata": {},
   "outputs": [],
   "source": [
    "from markdown import markdown\n",
    "from weasyprint import HTML\n",
    "import os\n",
    "\n",
    "# Create the Markdown content for the cover letter\n",
    "markdown_content = \"\"\"\\\n",
    "\n",
    "\n",
    "\n",
    "Dear Manager,\n",
    "\n",
    "My name is Juan Sebastian, I'm a versatile data engineer holding a Master's degree in Data Science, complemented by a strong foundation in engineering principles through my Bachelor's degree in Industrial Engineering-Systems Engineering. Skilled in predictive analytics, making data easy to understand, and devising data-driven solutions. I develop machine learning models and data solutions. \n",
    "I've applied these skills in both large corporations and high-growth startups. I'm passionate about innovation and committed to ethical data use. Fluent in English, Spanish, and Portuguese.\n",
    "\n",
    "\n",
    "- I am well-versed in ETL processes and have experience in designing efficient data pipelines.\n",
    "\n",
    "- My academic journey included conducting a research thesis on interpretable deep learning, showcasing my commitment to advancing my data science expertise.\n",
    "\n",
    "- I am dedicated to keeping my knowledge up-to-date in the rapidly evolving fields of data science and AI/ML.\n",
    "\n",
    "Best regards,\n",
    "\n",
    " Sebastian\n",
    "\n",
    " \n",
    "\"\"\"\n",
    "\n",
    "# Convert Markdown to HTML\n",
    "html_content = markdown(markdown_content)\n",
    "\n",
    "# Set the path to save the PDF\n",
    "pdf_path = 'cover_letter_Sebastian.pdf'\n",
    "\n",
    "# Generate PDF from HTML\n",
    "HTML(string=html_content).write_pdf(pdf_path)\n"
   ]
  },
  {
   "cell_type": "code",
   "execution_count": null,
   "id": "400a12d4-3b98-405c-a78f-b2373c217b50",
   "metadata": {},
   "outputs": [],
   "source": []
  }
 ],
 "metadata": {
  "kernelspec": {
   "display_name": "Python 3 (ipykernel)",
   "language": "python",
   "name": "python3"
  },
  "language_info": {
   "codemirror_mode": {
    "name": "ipython",
    "version": 3
   },
   "file_extension": ".py",
   "mimetype": "text/x-python",
   "name": "python",
   "nbconvert_exporter": "python",
   "pygments_lexer": "ipython3",
   "version": "3.11.4"
  }
 },
 "nbformat": 4,
 "nbformat_minor": 5
}
